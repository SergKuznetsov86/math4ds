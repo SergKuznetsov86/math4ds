{
 "cells": [
  {
   "cell_type": "markdown",
   "metadata": {},
   "source": [
    "# Домашнее задание № 1"
   ]
  },
  {
   "cell_type": "markdown",
   "metadata": {},
   "source": [
    "### Выполнил Кузнецов С.И."
   ]
  },
  {
   "cell_type": "markdown",
   "metadata": {},
   "source": [
    "**Задание 1.**"
   ]
  },
  {
   "cell_type": "markdown",
   "metadata": {},
   "source": [
    "Написать функцию отображения элементов одного множества в другое. Первое множество - художники, второе множество - картины художников.\n",
    "Множество художников - Серов, Левитан, Репин, Васнецов, Шишкин. \n",
    "Множество картин - \"Утро в сосновом бору\", \"Богатыри\", \"Золотая осень\", \"Девочка с персиками\", \"Запорожцы\", \"Буралки на Волге\", \"Март\", \"Алёнушка\". \n"
   ]
  },
  {
   "cell_type": "markdown",
   "metadata": {},
   "source": [
    "**Решение**"
   ]
  },
  {
   "cell_type": "code",
   "execution_count": 1,
   "metadata": {},
   "outputs": [],
   "source": [
    "# Зададим функцию отображения в виде словаря\n",
    "artists = {\n",
    "    'Серов': {'Девочка с персиками'},\n",
    "    'Левитан': {'Золотая осень', 'Март'},\n",
    "    'Репин': {'Запорожцы', 'Буралки на Волге'},\n",
    "    'Васнецов': {'Богатыри', 'Алёнушка'},\n",
    "    'Шишкин': {'Утро в сосновом бору'}\n",
    "}"
   ]
  },
  {
   "cell_type": "code",
   "execution_count": 2,
   "metadata": {},
   "outputs": [
    {
     "name": "stdout",
     "output_type": "stream",
     "text": [
      "Серов:\n",
      "Девочка с персиками\n",
      "\n",
      "Левитан:\n",
      "Золотая осень, Март\n",
      "\n",
      "Репин:\n",
      "Буралки на Волге, Запорожцы\n",
      "\n",
      "Васнецов:\n",
      "Алёнушка, Богатыри\n",
      "\n",
      "Шишкин:\n",
      "Утро в сосновом бору\n",
      "\n"
     ]
    }
   ],
   "source": [
    "for artist, painting in artists.items():\n",
    "    print(artist + ':')\n",
    "    print(', '.join(painting) + '\\n')"
   ]
  },
  {
   "cell_type": "markdown",
   "metadata": {},
   "source": [
    "*Отображение множества художников на множество картин не является функцией, т.к. одному художнику соответствует несколько картин.*\n",
    "\n",
    "Построим отображение множества картин на множество художников"
   ]
  },
  {
   "cell_type": "code",
   "execution_count": 3,
   "metadata": {},
   "outputs": [
    {
     "data": {
      "text/plain": [
       "{'Алёнушка',\n",
       " 'Богатыри',\n",
       " 'Буралки на Волге',\n",
       " 'Девочка с персиками',\n",
       " 'Запорожцы',\n",
       " 'Золотая осень',\n",
       " 'Март',\n",
       " 'Утро в сосновом бору'}"
      ]
     },
     "execution_count": 3,
     "metadata": {},
     "output_type": "execute_result"
    }
   ],
   "source": [
    "# Множество всех картин\n",
    "paintings = set()\n",
    "for painting in artists.values():\n",
    "    paintings.update(painting)\n",
    "paintings"
   ]
  },
  {
   "cell_type": "code",
   "execution_count": 4,
   "metadata": {},
   "outputs": [
    {
     "name": "stdout",
     "output_type": "stream",
     "text": [
      "Девочка с персиками: Серов\n",
      "Март: Левитан\n",
      "Алёнушка: Васнецов\n",
      "Утро в сосновом бору: Шишкин\n",
      "Буралки на Волге: Репин\n",
      "Золотая осень: Левитан\n",
      "Запорожцы: Репин\n",
      "Богатыри: Васнецов\n"
     ]
    }
   ],
   "source": [
    "# Отображение\n",
    "for painting in paintings:\n",
    "    for a, p in artists.items():\n",
    "        if painting in p:\n",
    "            print('{}: {}'.format(painting, a))\n",
    "            break"
   ]
  },
  {
   "cell_type": "markdown",
   "metadata": {},
   "source": [
    "*Отображение множества картин на множество художников является функцией, т.к. каждой картине соответствует единственный художник*"
   ]
  },
  {
   "cell_type": "markdown",
   "metadata": {},
   "source": [
    "**Задание 2**. Найти из следующих функций те, которые являются полиномиальной функцией."
   ]
  },
  {
   "cell_type": "markdown",
   "metadata": {},
   "source": [
    "*  $$f(x)=\\frac{1}{2}x^{6}-1\\frac{5}{6}x+\\frac{1}{3}$$\n",
    "**Ответ:** Да, является полиномом"
   ]
  },
  {
   "cell_type": "markdown",
   "metadata": {},
   "source": [
    "*  $$f(x)=\\frac{3x^{6}-11x+2}{6}$$\n",
    "**Ответ:** Да, является полиномом, т.к. если функцию $f(x)$ можно привести к виду:\n",
    " $$f(x)=\\frac{1}{2}x^{6}-\\frac{11}{6}x+\\frac{1}{3}$$"
   ]
  },
  {
   "cell_type": "markdown",
   "metadata": {},
   "source": [
    "*  $$f(x)=\\frac{3x^{6}-11x+2}{6x}$$\n",
    "**Ответ:** Нет, не является полиномом, т.к. при упрощении получаем:\n",
    "$$f(x)=\\frac{1}{2}x^{5}-\\frac{11}{6}+\\frac{1}{3}x^{-1}$$\n",
    "Полиномиальная функция не может содержать отрицательные степени переменной $x$."
   ]
  },
  {
   "cell_type": "markdown",
   "metadata": {},
   "source": [
    "*  $$f(x)=x^{5}-3x^{2}+7x^{-2}$$\n",
    "**Ответ:** Нет, не является полиномом, т.к. полиномиальная функция не может содержать отрицательные степени переменной $x$."
   ]
  },
  {
   "cell_type": "markdown",
   "metadata": {},
   "source": [
    "*  $$f(x)=(5x^{2}-2)^3-\\frac{1}{2}x^{3}$$\n",
    "**Ответ:** Да, является полиномом, т.к. если функцию $f(x)$ можно привести к виду:\n",
    "$$f(x)=125x^{6}-150x^{4}-\\frac{1}{2}x^{3}+60x^2-8$$"
   ]
  },
  {
   "cell_type": "markdown",
   "metadata": {},
   "source": [
    "*  $$f(x)=(1+\\sqrt{x})^{3}-5(1+\\sqrt{x})$$\n",
    "**Ответ:** Нет, не является полиномом, т.к. при упрощении получаем:\n",
    "$$f(x) = 1+3x^{\\frac{1}{2}}+3x+x^{\\frac{3}{2}}-5-5x^{\\frac{1}{2}}$$\n",
    "или\n",
    "$$f(x) = x^{\\frac{3}{2}}+3x-2x^{\\frac{1}{2}}-4.$$\n",
    "Полиномиальная функция не может содержать дробные степени переменной $x$."
   ]
  },
  {
   "cell_type": "markdown",
   "metadata": {},
   "source": [
    "*  $$f(x)=\\pi $$\n",
    "**Ответ:** Да, является полиномом"
   ]
  },
  {
   "cell_type": "markdown",
   "metadata": {},
   "source": [
    "**Задание 3**. Раскрыть скобки для следующего полинома $$(2x+1)^{2}(x-1)-x(4x^{2}-1)-x(4x^{2}-1)=ax^3+bx^2+cx+d$$ найти коэффициенты для a, b, c, d."
   ]
  },
  {
   "cell_type": "markdown",
   "metadata": {},
   "source": [
    "**Решение:**"
   ]
  },
  {
   "cell_type": "markdown",
   "metadata": {},
   "source": [
    "$$(2x+1)^{2}(x-1)-x(4x^{2}-1)-x(4x^{2}-1)=$$\n",
    "$$=(4x^2+4x+1)(x-1)-4x^{3}+x-4x^{3}+x=$$\n",
    "$$=4x^3+4x^2+x-4x^2-4x-1-4x^{3}+x-4x^{3}+x=$$\n",
    "$$=-4x^{3}-x-1$$"
   ]
  },
  {
   "cell_type": "markdown",
   "metadata": {},
   "source": [
    "*Значения коэффициентов:*\n",
    "$$a=-4$$\n",
    "$$b=0$$\n",
    "$$c=-1$$\n",
    "$$d=-1$$"
   ]
  },
  {
   "cell_type": "markdown",
   "metadata": {},
   "source": [
    "*Степень полинома:* 3"
   ]
  },
  {
   "cell_type": "markdown",
   "metadata": {},
   "source": [
    "*График полинома:*"
   ]
  },
  {
   "cell_type": "code",
   "execution_count": 5,
   "metadata": {},
   "outputs": [],
   "source": [
    "import numpy as np\n",
    "import matplotlib.pyplot as plt\n",
    "%matplotlib inline"
   ]
  },
  {
   "cell_type": "code",
   "execution_count": 6,
   "metadata": {},
   "outputs": [
    {
     "data": {
      "image/png": "[encoded data removed]",
      "text/plain": [
       "<Figure size 432x288 with 1 Axes>"
      ]
     },
     "metadata": {
      "needs_background": "light"
     },
     "output_type": "display_data"
    }
   ],
   "source": [
    "def func1(x):\n",
    "    return -4 * x ** 3 - x - 1\n",
    "  \n",
    "# создаем вектор x\n",
    "x1 = np.linspace(-3.0, 3.0, 100)\n",
    "# на основе вектора x строим значения для вектора y\n",
    "y1 = [func1(x1[i]) for i in range(len(x1))]\n",
    "\n",
    "plt.plot(x1, y1)\n",
    "plt.axvline(0, color='r')\n",
    "plt.axhline(0, color='r')\n",
    "plt.title('График функции $y = -4x^{3}-x-1$')\n",
    "plt.ylabel('y')\n",
    "plt.xlabel('x')\n",
    "plt.show()"
   ]
  },
  {
   "cell_type": "markdown",
   "metadata": {},
   "source": [
    "**Задание 3**.\n",
    "Для заданных функций найти подходящий график (не все функции имеют график):\n",
    "\n",
    "$\\frac{3}{4}x-1$,  $\\frac{3}{4}x+2$, $2-2x$, $2+2x$, $\\frac{1}{4}(x+1)^{2}-2 $, $\\frac{1}{4}(x-1)^2-2$, $(x-1)(x-3)$, $(x+1)(x+3)$, $2-x^2$, $2-\\frac{1}{4}x^2$"
   ]
  },
  {
   "cell_type": "markdown",
   "metadata": {},
   "source": [
    "![alt text](https://pp.userapi.com/c855532/v855532908/aadd4/uWjIZGDfw0s.jpg)"
   ]
  },
  {
   "cell_type": "markdown",
   "metadata": {},
   "source": [
    "**Ответ:**\n",
    "\n",
    "$\\frac{3}{4}x-1$ - нижний средний\n",
    "\n",
    "$\\frac{3}{4}x+2$ - нет графика\n",
    "\n",
    "$2-2x$ - верхний левый\n",
    "\n",
    "$2+2x$ - нет графика\n",
    "\n",
    "$\\frac{1}{4}(x+1)^{2}-2 $ - нижний левый \n",
    "\n",
    "$\\frac{1}{4}(x-1)^2-2$ - нижний правый\n",
    "\n",
    "$(x-1)(x-3)$ - нижний правый\n",
    "\n",
    "$(x+1)(x+3)$ - нет графика\n",
    "\n",
    "$2-x^2$ - верхний правый\n",
    "\n",
    "$2-\\frac{1}{4}x^2$ - верхний правый"
   ]
  },
  {
   "cell_type": "markdown",
   "metadata": {},
   "source": [
    "**Задание 4.** Найти минимальную степень следующего полинома:\n",
    "\n",
    "![alt text](https://pp.userapi.com/c855532/v855532908/aadcd/PZdPYTQT02A.jpg)"
   ]
  },
  {
   "cell_type": "markdown",
   "metadata": {},
   "source": [
    "**Ответ:** Максимальная степень полинома $p(x)$ равна 5, т.к.график пересекает ось $Ox$ в 5 точках"
   ]
  },
  {
   "cell_type": "markdown",
   "metadata": {},
   "source": [
    "**Задания повышенного уровня**"
   ]
  },
  {
   "cell_type": "markdown",
   "metadata": {},
   "source": [
    "**Задание 1**"
   ]
  },
  {
   "cell_type": "markdown",
   "metadata": {},
   "source": [
    "Почему следующие функции не являются полиномиальными?\n",
    "$$y=5x^{-2}+1$$\n",
    "$$y=3x^{1/2}+2$$\n",
    "$$y=(5x+1)/(3x)$$"
   ]
  },
  {
   "cell_type": "markdown",
   "metadata": {},
   "source": [
    "**Ответ:** Полиномиальной называется функция вида $$f(x) = \\sum\\limits_{i=0}^n a_i x^i$$\n",
    "Следовательно, полиномиальная функция не может содержать слагаемые с дробной или отрицательной степенью переменной $x$.\n",
    "\n",
    "Первая функция содержит $x^{-2}$, во второй присутствует $x^{\\frac{1}{2}}$\n",
    "\n",
    "Если мы раскроем скобки в третьей функции, то получим:\n",
    "$$y=\\frac{5}{3}+\\frac{1}{3}x^{-1}$$\n",
    "Таким образом, и третья функция не является полиномиальной, т.к. содержит отрицательную степень $x$."
   ]
  },
  {
   "cell_type": "markdown",
   "metadata": {},
   "source": [
    "**Задание 2**"
   ]
  },
  {
   "cell_type": "markdown",
   "metadata": {},
   "source": [
    "Найдите наибольшее и наименьшее значение функции  𝑦=𝑥3+2𝑥2+𝑥+3  на отрезке [-4;-1]."
   ]
  },
  {
   "cell_type": "code",
   "execution_count": 7,
   "metadata": {},
   "outputs": [],
   "source": [
    "# Исходная функция:\n",
    "def func2(x):\n",
    "    return(x**3 + 2 * x ** 2 + x + 3)"
   ]
  },
  {
   "cell_type": "code",
   "execution_count": 8,
   "metadata": {
    "scrolled": true
   },
   "outputs": [
    {
     "name": "stdout",
     "output_type": "stream",
     "text": [
      "x значение, при котором y минимально:  -4.0\n",
      "минимальное значение функции:  -33.0\n",
      "x значение, при котором y максимально:  -1.0\n",
      "максимальное значение функции:  3.0\n"
     ]
    }
   ],
   "source": [
    "x = np.linspace(-4, -1, 1000)\n",
    "y = [func2(x[i]) for i in range(len(x))]\n",
    "min_x = np.argmin(y)\n",
    "print('x значение, при котором y минимально: ', x[min_x])\n",
    "min_y = min(y)\n",
    "print('минимальное значение функции: ', y[min_x])\n",
    "max_x = np.argmax(y)\n",
    "print('x значение, при котором y максимально: ', x[max_x])\n",
    "print('максимальное значение функции: ', y[max_x])"
   ]
  },
  {
   "cell_type": "markdown",
   "metadata": {},
   "source": [
    "**Задание 3**"
   ]
  },
  {
   "cell_type": "markdown",
   "metadata": {},
   "source": [
    "Пример линейной регрессии - это применение полиномов на практике. В следующем примере дан датасет x, y, сгенерированный рандомно. Мы можем использовать линейную регрессию, чтобы предсказать значение переменной y от x. "
   ]
  },
  {
   "cell_type": "code",
   "execution_count": 9,
   "metadata": {},
   "outputs": [
    {
     "data": {
      "image/png": "[encoded data removed]",
      "text/plain": [
       "<Figure size 432x288 with 1 Axes>"
      ]
     },
     "metadata": {
      "needs_background": "light"
     },
     "output_type": "display_data"
    }
   ],
   "source": [
    "import numpy as np\n",
    "import matplotlib.pyplot as plt\n",
    "\n",
    "from sklearn.linear_model import LinearRegression\n",
    "\n",
    "np.random.seed(0)\n",
    "x = 2 - 3 * np.random.normal(0, 1, 20)\n",
    "y = x - 2 * (x ** 2) + 0.5 * (x ** 3) + np.random.normal(-3, 3, 20)\n",
    "\n",
    "# transforming the data to include another axis\n",
    "x = x[:, np.newaxis]\n",
    "y = y[:, np.newaxis]\n",
    "\n",
    "model = LinearRegression()\n",
    "model.fit(x, y)\n",
    "y_pred = model.predict(x)\n",
    "\n",
    "plt.scatter(x, y, s=10)\n",
    "plt.plot(x, y_pred, color='r')\n",
    "plt.show()"
   ]
  },
  {
   "cell_type": "markdown",
   "metadata": {},
   "source": [
    "В данном примере найден полином первой степени. Как можно улучшить данную модель? Написать пример. "
   ]
  },
  {
   "cell_type": "markdown",
   "metadata": {},
   "source": [
    "**Решение:**"
   ]
  },
  {
   "cell_type": "markdown",
   "metadata": {},
   "source": [
    "Чтобы улучшить модель будем искать приближение в виде полинома более высокой степени, чем 1."
   ]
  },
  {
   "cell_type": "markdown",
   "metadata": {},
   "source": [
    "Найдем полиномы 2й, 3й и 4й степеней:"
   ]
  },
  {
   "cell_type": "code",
   "execution_count": 10,
   "metadata": {},
   "outputs": [],
   "source": [
    "import pandas as pd\n",
    "from sklearn.preprocessing import PolynomialFeatures"
   ]
  },
  {
   "cell_type": "code",
   "execution_count": 11,
   "metadata": {},
   "outputs": [
    {
     "data": {
      "image/png": "[encoded data removed]",
      "text/plain": [
       "<Figure size 864x576 with 1 Axes>"
      ]
     },
     "metadata": {
      "needs_background": "light"
     },
     "output_type": "display_data"
    }
   ],
   "source": [
    "poly_2 = PolynomialFeatures(degree = 2)\n",
    "poly_3 = PolynomialFeatures(degree = 3)\n",
    "poly_4 = PolynomialFeatures(degree = 4)\n",
    "\n",
    "# Обучаем модели\n",
    "X_poly_2 = poly_2.fit_transform(x)\n",
    "lin2 = LinearRegression()\n",
    "model_2 = lin2.fit(X_poly_2, y)\n",
    "\n",
    "X_poly_3 = poly_3.fit_transform(x)\n",
    "lin3 = LinearRegression()\n",
    "model_3 = lin3.fit(X_poly_3, y)\n",
    "\n",
    "X_poly_4 = poly_4.fit_transform(x)\n",
    "lin4 = LinearRegression()\n",
    "model_4 = lin4.fit(X_poly_4, y)\n",
    "\n",
    "# Строим результат\n",
    "results = pd.DataFrame({'x':x[:,0], \n",
    "                        'y':y[:,0], \n",
    "                        'y_pred': model.predict(x)[:,0], \n",
    "                        'y_pred_2': model_2.predict(poly_2.fit_transform(x))[:,0],\n",
    "                        'y_pred_3': model_3.predict(poly_3.fit_transform(x))[:,0],\n",
    "                        'y_pred_4': model_4.predict(poly_4.fit_transform(x))[:,0]})\n",
    "\n",
    "results.sort_values(by = 'x', inplace = True)\n",
    "\n",
    "plt.figure(figsize = (12, 8))\n",
    "plt.scatter(x, y, s=10)\n",
    "plt.plot(results.x, results.y_pred, color='r')\n",
    "plt.plot(results.x, results.y_pred_2)\n",
    "plt.plot(results.x, results.y_pred_3)\n",
    "plt.plot(results.x, results.y_pred_4)\n",
    "plt.legend(['Приближение полиномом 1й степени',\n",
    "            'Приближение полиномом 2й степени',\n",
    "            'Приближение полиномом 3й степени',\n",
    "            'Приближение полиномом 4й степени',\n",
    "            'Исходные данные'])\n",
    "plt.title('Приближение исходных данных с помощью полиномов')\n",
    "plt.xlabel('x')\n",
    "plt.ylabel('y')\n",
    "plt.show()\n",
    "\n"
   ]
  },
  {
   "cell_type": "markdown",
   "metadata": {},
   "source": [
    "Видно, что чем больше степень полинома, тем более точной становится модель"
   ]
  }
 ],
 "metadata": {
  "kernelspec": {
   "display_name": "Python 3",
   "language": "python",
   "name": "python3"
  },
  "language_info": {
   "codemirror_mode": {
    "name": "ipython",
    "version": 3
   },
   "file_extension": ".py",
   "mimetype": "text/x-python",
   "name": "python",
   "nbconvert_exporter": "python",
   "pygments_lexer": "ipython3",
   "version": "3.7.1"
  }
 },
 "nbformat": 4,
 "nbformat_minor": 2
}
